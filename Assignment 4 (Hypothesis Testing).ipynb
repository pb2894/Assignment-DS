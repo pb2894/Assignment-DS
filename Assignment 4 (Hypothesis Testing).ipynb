{
 "cells": [
  {
   "cell_type": "code",
   "execution_count": 1,
   "id": "c9ca8ff6-3ac5-47fe-ae81-54994e5f7919",
   "metadata": {},
   "outputs": [],
   "source": [
    "import pandas as pd\n",
    "import numpy as np\n",
    "from scipy import stats"
   ]
  },
  {
   "cell_type": "markdown",
   "id": "95be1661-8b0b-4033-aad4-339e163d7e48",
   "metadata": {},
   "source": [
    "# Hypothesis Test \n"
   ]
  },
  {
   "cell_type": "code",
   "execution_count": 2,
   "id": "80409a2a-0b66-4a7d-8761-95a39264ca83",
   "metadata": {},
   "outputs": [],
   "source": [
    "theoretical_cost_intercept = 1000 \n",
    "theoretical_cost_per_unit = 5     \n",
    "sample_mean = 3050           \n",
    "sample_size = 25                \n",
    "mean_units_produced = 600         \n",
    "std_units_produced = 25"
   ]
  },
  {
   "cell_type": "code",
   "execution_count": 3,
   "id": "d6000c69-afa8-4aa9-b321-bfabe6b0c473",
   "metadata": {},
   "outputs": [],
   "source": [
    "mean_theoretical_cost = theoretical_cost_intercept + theoretical_cost_per_unit * mean_units_produced"
   ]
  },
  {
   "cell_type": "code",
   "execution_count": 4,
   "id": "ec57dd91-4f06-44e3-b074-3e27ccd58616",
   "metadata": {},
   "outputs": [],
   "source": [
    "std_error = (std_units_produced * theoretical_cost_per_unit) / np.sqrt(sample_size)"
   ]
  },
  {
   "cell_type": "code",
   "execution_count": 5,
   "id": "c3c6b14c-593d-44f7-8b0a-236a034a3b48",
   "metadata": {},
   "outputs": [],
   "source": [
    "z_score = (sample_mean - mean_theoretical_cost) / std_error\n",
    "p = 1 - stats.norm.cdf(z_score) "
   ]
  },
  {
   "cell_type": "code",
   "execution_count": 6,
   "id": "e924ff3c-969f-419b-9eed-bd8189689416",
   "metadata": {},
   "outputs": [
    {
     "name": "stdout",
     "output_type": "stream",
     "text": [
      "Theoretical mean weekly cost: 4000\n",
      "Standard error of the mean (SEM): 25.0\n",
      "Z-score: -38.0\n",
      "P: 1.0\n"
     ]
    }
   ],
   "source": [
    "print(\"Theoretical mean weekly cost:\", mean_theoretical_cost)\n",
    "print(\"Standard error of the mean (SEM):\", std_error)\n",
    "print(\"Z-score:\", z_score)\n",
    "print(\"P:\", p)\n"
   ]
  },
  {
   "cell_type": "code",
   "execution_count": 7,
   "id": "821a8cd6-fc9c-4e42-a81b-bfcc5f39d7ff",
   "metadata": {},
   "outputs": [
    {
     "name": "stdout",
     "output_type": "stream",
     "text": [
      "Fail to reject null hypothesis\n"
     ]
    }
   ],
   "source": [
    "if p < 0.05:\n",
    "    print('Reject Null hypothesis')\n",
    "else:\n",
    "    print('Fail to reject null hypothesis')"
   ]
  },
  {
   "cell_type": "markdown",
   "id": "717f9e0b-46c7-4e80-b702-76e87c1d7e62",
   "metadata": {},
   "source": [
    "# Chi2"
   ]
  },
  {
   "cell_type": "code",
   "execution_count": 8,
   "id": "98222bb7-9d13-47ce-bbba-bc1208658dce",
   "metadata": {},
   "outputs": [],
   "source": [
    "from scipy.stats import chi2_contingency"
   ]
  },
  {
   "cell_type": "code",
   "execution_count": 11,
   "id": "e66a34ec-7712-4d90-8a80-6e99a7f20f27",
   "metadata": {},
   "outputs": [
    {
     "data": {
      "text/html": [
       "<div>\n",
       "<style scoped>\n",
       "    .dataframe tbody tr th:only-of-type {\n",
       "        vertical-align: middle;\n",
       "    }\n",
       "\n",
       "    .dataframe tbody tr th {\n",
       "        vertical-align: top;\n",
       "    }\n",
       "\n",
       "    .dataframe thead th {\n",
       "        text-align: right;\n",
       "    }\n",
       "</style>\n",
       "<table border=\"1\" class=\"dataframe\">\n",
       "  <thead>\n",
       "    <tr style=\"text-align: right;\">\n",
       "      <th></th>\n",
       "      <th>Smart Thermostat</th>\n",
       "      <th>Smart Light</th>\n",
       "      <th>Total</th>\n",
       "    </tr>\n",
       "    <tr>\n",
       "      <th>Satisfaction</th>\n",
       "      <th></th>\n",
       "      <th></th>\n",
       "      <th></th>\n",
       "    </tr>\n",
       "  </thead>\n",
       "  <tbody>\n",
       "    <tr>\n",
       "      <th>Very Satisfied</th>\n",
       "      <td>50</td>\n",
       "      <td>70</td>\n",
       "      <td>120</td>\n",
       "    </tr>\n",
       "    <tr>\n",
       "      <th>Satisfied</th>\n",
       "      <td>80</td>\n",
       "      <td>100</td>\n",
       "      <td>180</td>\n",
       "    </tr>\n",
       "    <tr>\n",
       "      <th>Neutral</th>\n",
       "      <td>60</td>\n",
       "      <td>90</td>\n",
       "      <td>150</td>\n",
       "    </tr>\n",
       "    <tr>\n",
       "      <th>Unsatisfied</th>\n",
       "      <td>30</td>\n",
       "      <td>50</td>\n",
       "      <td>80</td>\n",
       "    </tr>\n",
       "    <tr>\n",
       "      <th>Very Unsatisfied</th>\n",
       "      <td>20</td>\n",
       "      <td>50</td>\n",
       "      <td>70</td>\n",
       "    </tr>\n",
       "    <tr>\n",
       "      <th>Total</th>\n",
       "      <td>240</td>\n",
       "      <td>360</td>\n",
       "      <td>600</td>\n",
       "    </tr>\n",
       "  </tbody>\n",
       "</table>\n",
       "</div>"
      ],
      "text/plain": [
       "                  Smart Thermostat  Smart Light  Total\n",
       "Satisfaction                                          \n",
       "Very Satisfied                  50           70    120\n",
       "Satisfied                       80          100    180\n",
       "Neutral                         60           90    150\n",
       "Unsatisfied                     30           50     80\n",
       "Very Unsatisfied                20           50     70\n",
       "Total                          240          360    600"
      ]
     },
     "execution_count": 11,
     "metadata": {},
     "output_type": "execute_result"
    }
   ],
   "source": [
    "df = pd.read_excel(r\"C:\\Users\\Admin\\Desktop\\Hypothesis testing\\Assignment Chi2.xlsx\", index_col=0)\n",
    "df"
   ]
  },
  {
   "cell_type": "code",
   "execution_count": 12,
   "id": "a882ff99-5b64-4a31-945f-a5f6fd82b255",
   "metadata": {},
   "outputs": [
    {
     "data": {
      "text/html": [
       "<div>\n",
       "<style scoped>\n",
       "    .dataframe tbody tr th:only-of-type {\n",
       "        vertical-align: middle;\n",
       "    }\n",
       "\n",
       "    .dataframe tbody tr th {\n",
       "        vertical-align: top;\n",
       "    }\n",
       "\n",
       "    .dataframe thead th {\n",
       "        text-align: right;\n",
       "    }\n",
       "</style>\n",
       "<table border=\"1\" class=\"dataframe\">\n",
       "  <thead>\n",
       "    <tr style=\"text-align: right;\">\n",
       "      <th>Smart Light</th>\n",
       "      <th>50</th>\n",
       "      <th>70</th>\n",
       "      <th>90</th>\n",
       "      <th>100</th>\n",
       "      <th>360</th>\n",
       "    </tr>\n",
       "    <tr>\n",
       "      <th>Smart Thermostat</th>\n",
       "      <th></th>\n",
       "      <th></th>\n",
       "      <th></th>\n",
       "      <th></th>\n",
       "      <th></th>\n",
       "    </tr>\n",
       "  </thead>\n",
       "  <tbody>\n",
       "    <tr>\n",
       "      <th>20</th>\n",
       "      <td>1</td>\n",
       "      <td>0</td>\n",
       "      <td>0</td>\n",
       "      <td>0</td>\n",
       "      <td>0</td>\n",
       "    </tr>\n",
       "    <tr>\n",
       "      <th>30</th>\n",
       "      <td>1</td>\n",
       "      <td>0</td>\n",
       "      <td>0</td>\n",
       "      <td>0</td>\n",
       "      <td>0</td>\n",
       "    </tr>\n",
       "    <tr>\n",
       "      <th>50</th>\n",
       "      <td>0</td>\n",
       "      <td>1</td>\n",
       "      <td>0</td>\n",
       "      <td>0</td>\n",
       "      <td>0</td>\n",
       "    </tr>\n",
       "    <tr>\n",
       "      <th>60</th>\n",
       "      <td>0</td>\n",
       "      <td>0</td>\n",
       "      <td>1</td>\n",
       "      <td>0</td>\n",
       "      <td>0</td>\n",
       "    </tr>\n",
       "    <tr>\n",
       "      <th>80</th>\n",
       "      <td>0</td>\n",
       "      <td>0</td>\n",
       "      <td>0</td>\n",
       "      <td>1</td>\n",
       "      <td>0</td>\n",
       "    </tr>\n",
       "    <tr>\n",
       "      <th>240</th>\n",
       "      <td>0</td>\n",
       "      <td>0</td>\n",
       "      <td>0</td>\n",
       "      <td>0</td>\n",
       "      <td>1</td>\n",
       "    </tr>\n",
       "  </tbody>\n",
       "</table>\n",
       "</div>"
      ],
      "text/plain": [
       "Smart Light       50   70   90   100  360\n",
       "Smart Thermostat                         \n",
       "20                  1    0    0    0    0\n",
       "30                  1    0    0    0    0\n",
       "50                  0    1    0    0    0\n",
       "60                  0    0    1    0    0\n",
       "80                  0    0    0    1    0\n",
       "240                 0    0    0    0    1"
      ]
     },
     "execution_count": 12,
     "metadata": {},
     "output_type": "execute_result"
    }
   ],
   "source": [
    "obs = pd.crosstab(index=df['Smart Thermostat'],columns=df['Smart Light'])\n",
    "obs"
   ]
  },
  {
   "cell_type": "code",
   "execution_count": 13,
   "id": "87fc548f-8565-4c9a-a9d6-c869cc1dfe8b",
   "metadata": {},
   "outputs": [],
   "source": [
    "chi2, p, df, exp = stats.chi2_contingency(obs)"
   ]
  },
  {
   "cell_type": "code",
   "execution_count": 14,
   "id": "d766c695-3e5d-431d-9cbb-1128e3eb2697",
   "metadata": {},
   "outputs": [
    {
     "data": {
      "text/plain": [
       "(24.000000000000007,\n",
       " 0.2423921616705121,\n",
       " 20,\n",
       " array([[0.33333333, 0.16666667, 0.16666667, 0.16666667, 0.16666667],\n",
       "        [0.33333333, 0.16666667, 0.16666667, 0.16666667, 0.16666667],\n",
       "        [0.33333333, 0.16666667, 0.16666667, 0.16666667, 0.16666667],\n",
       "        [0.33333333, 0.16666667, 0.16666667, 0.16666667, 0.16666667],\n",
       "        [0.33333333, 0.16666667, 0.16666667, 0.16666667, 0.16666667],\n",
       "        [0.33333333, 0.16666667, 0.16666667, 0.16666667, 0.16666667]]))"
      ]
     },
     "execution_count": 14,
     "metadata": {},
     "output_type": "execute_result"
    }
   ],
   "source": [
    "chi2,p,df,exp"
   ]
  },
  {
   "cell_type": "code",
   "execution_count": 15,
   "id": "9bffa877-0cd1-495b-b206-5ff3f2e83692",
   "metadata": {},
   "outputs": [
    {
     "name": "stdout",
     "output_type": "stream",
     "text": [
      "Fail to reject null hypothesis\n"
     ]
    }
   ],
   "source": [
    "if p < 0.05:\n",
    "    print('Reject Null hypothesis')\n",
    "else:\n",
    "    print('Fail to reject null hypothesis')"
   ]
  },
  {
   "cell_type": "code",
   "execution_count": null,
   "id": "d17a003c-8bef-4ab3-a3b0-b64e47164515",
   "metadata": {},
   "outputs": [],
   "source": []
  }
 ],
 "metadata": {
  "kernelspec": {
   "display_name": "Python 3 (ipykernel)",
   "language": "python",
   "name": "python3"
  },
  "language_info": {
   "codemirror_mode": {
    "name": "ipython",
    "version": 3
   },
   "file_extension": ".py",
   "mimetype": "text/x-python",
   "name": "python",
   "nbconvert_exporter": "python",
   "pygments_lexer": "ipython3",
   "version": "3.12.4"
  }
 },
 "nbformat": 4,
 "nbformat_minor": 5
}
