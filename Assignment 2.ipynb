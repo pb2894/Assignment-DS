{
 "cells": [
  {
   "cell_type": "code",
   "execution_count": 10,
   "id": "b313f6e0-8c58-4dca-8431-ea6487022a3f",
   "metadata": {},
   "outputs": [],
   "source": [
    "from scipy import stats\n",
    "import pandas as pd\n",
    "import numpy as np"
   ]
  },
  {
   "cell_type": "code",
   "execution_count": 11,
   "id": "8061f573-5dac-4974-8f1f-0572db627c88",
   "metadata": {},
   "outputs": [],
   "source": [
    "Data = [1.13, 1.55, 1.43, 0.92, 1.25, 1.36, 1.32, 0.85, 1.07, 1.48, 1.20, 1.33, 1.18, 1.22, 1.29]"
   ]
  },
  {
   "cell_type": "code",
   "execution_count": 12,
   "id": "4acf900c-a076-4437-a671-9faa3a16fb80",
   "metadata": {},
   "outputs": [],
   "source": [
    "sample_mean = np.mean(Data)\n",
    "sample_size = len(Data)\n",
    "sample_sd = np.std(Data)"
   ]
  },
  {
   "cell_type": "code",
   "execution_count": 13,
   "id": "bb46e2c1-7860-4846-9b4f-4adc82e9953c",
   "metadata": {},
   "outputs": [
    {
     "data": {
      "text/plain": [
       "1.2386666666666666"
      ]
     },
     "execution_count": 13,
     "metadata": {},
     "output_type": "execute_result"
    }
   ],
   "source": [
    "sample_mean"
   ]
  },
  {
   "cell_type": "code",
   "execution_count": 14,
   "id": "bfe7888a-c66c-4586-863d-d3d8d3308a1f",
   "metadata": {},
   "outputs": [
    {
     "data": {
      "text/plain": [
       "15"
      ]
     },
     "execution_count": 14,
     "metadata": {},
     "output_type": "execute_result"
    }
   ],
   "source": [
    "sample_size"
   ]
  },
  {
   "cell_type": "code",
   "execution_count": 15,
   "id": "0c312173-7dd9-46b2-88cf-39089474cc34",
   "metadata": {},
   "outputs": [
    {
     "data": {
      "text/plain": [
       "0.18661427836285438"
      ]
     },
     "execution_count": 15,
     "metadata": {},
     "output_type": "execute_result"
    }
   ],
   "source": [
    "sample_sd"
   ]
  },
  {
   "cell_type": "code",
   "execution_count": 16,
   "id": "457b2901-b38a-4ab6-8305-26098c2173a5",
   "metadata": {},
   "outputs": [
    {
     "data": {
      "text/plain": [
       "(1.1145539391646546, 1.3627793941686785)"
      ]
     },
     "execution_count": 16,
     "metadata": {},
     "output_type": "execute_result"
    }
   ],
   "source": [
    "stats.norm.interval(0.99,sample_mean,sample_sd/np.sqrt(sample_size))"
   ]
  },
  {
   "cell_type": "code",
   "execution_count": 17,
   "id": "8ca41ebb-8326-44de-9cce-ea4cecd6aad9",
   "metadata": {},
   "outputs": [
    {
     "data": {
      "text/plain": [
       "(159.8112990490984, 170.1887009509016)"
      ]
     },
     "execution_count": 17,
     "metadata": {},
     "output_type": "execute_result"
    }
   ],
   "source": [
    "stats.t.interval(0.95, df = 49, loc = 165, scale = (10/np.sqrt(15)))"
   ]
  },
  {
   "cell_type": "code",
   "execution_count": 18,
   "id": "5c024734-872a-4527-9692-ed3de0270b37",
   "metadata": {},
   "outputs": [
    {
     "data": {
      "text/plain": [
       "(1.1145539324998863, 1.3627793875001137)"
      ]
     },
     "execution_count": 18,
     "metadata": {},
     "output_type": "execute_result"
    }
   ],
   "source": [
    "stats.norm.interval(0.99,1.23866666,0.18661427836/np.sqrt(15))"
   ]
  },
  {
   "cell_type": "code",
   "execution_count": null,
   "id": "4b47a93b-c994-40f3-bacd-138348875965",
   "metadata": {},
   "outputs": [],
   "source": []
  }
 ],
 "metadata": {
  "kernelspec": {
   "display_name": "Python 3 (ipykernel)",
   "language": "python",
   "name": "python3"
  },
  "language_info": {
   "codemirror_mode": {
    "name": "ipython",
    "version": 3
   },
   "file_extension": ".py",
   "mimetype": "text/x-python",
   "name": "python",
   "nbconvert_exporter": "python",
   "pygments_lexer": "ipython3",
   "version": "3.12.4"
  }
 },
 "nbformat": 4,
 "nbformat_minor": 5
}
